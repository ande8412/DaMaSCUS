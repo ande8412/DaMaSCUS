{
 "cells": [
  {
   "cell_type": "code",
   "execution_count": null,
   "id": "aab76144",
   "metadata": {},
   "outputs": [],
   "source": [
    "def fix_eta(self,mass,sigmaE,fdm,idname,outdir):\n",
    "        import numpy as np\n",
    "        import os\n",
    "        # os.system('rm -r ./data/*')\n",
    "        fname_rhoDam = f'./results/results/{idname}.rho'\n",
    "        fdata = np.loadtxt(fname_rhoDam,delimiter='\\t')\n",
    "        rho = fdata[:,1]\n",
    "        mass_str = str(np.round(mass,3)).replace('.','_')\n",
    "        if fdm == 0:\n",
    "            dirname = 'Parameter_Scan_Scr'\n",
    "        elif fdm == 2:\n",
    "            dirname = 'Parameter_Scan_LM'\n",
    "\n",
    "        write_dir = outdir + dirname + f'/mDM_{mass_str}_MeV_sigmaE_{sigmaE}_cm2/'\n",
    "        if not os.path.isdir(write_dir):\n",
    "            os.mkdir(write_dir)\n",
    "        for isoangle in range(0,self.isorings):\n",
    "            fname_DAMASCUS = f'./results/results/{idname}_histograms/eta.{isoangle}'\n",
    "            \n",
    "            fdata = np.loadtxt(fname_DAMASCUS,delimiter='\\t')\n",
    "            vmin = fdata[:,0] * self.s/self.km\n",
    "            eta = fdata[:,1]*self.km/self.s\n",
    "            eta_err = fdata[:,3]*self.km/self.s\n",
    "            eta*=(rho[isoangle]/self.rhoX)\n",
    "            # print(rho[isoangle]/self.rhoX,self.rhoX,rho[isoangle])\n",
    "            eta_err*=(rho[isoangle]/self.rhoX)\n",
    "            import csv\n",
    "            with open(write_dir+f'DM_Eta_theta_{isoangle}.txt','w') as f:\n",
    "                writer = csv.writer(f,delimiter='\\t')\n",
    "                writer.writerows(zip(vmin,eta,eta_err))\n",
    "        # os.system(f\"rm -r ./results/{idname}*\")"
   ]
  },
  {
   "cell_type": "code",
   "execution_count": null,
   "id": "4f4892e1",
   "metadata": {},
   "outputs": [],
   "source": [
    "import os\n",
    "from DaMaSCUS_helper import DaMaSCUS_helper\n",
    "damascus = DaMaSCUS_helper()\n",
    "import re\n",
    "outdir = '../sensei_toy_limit/python/theory_tools/QEDark/halo_data/modulated/'\n",
    "files = os.listdir('results')\n",
    "for f in files:\n",
    "    if 'histograms' not in f:\n",
    "        continue\n",
    "    if 'mX' not in f:\n",
    "        continue\n",
    "    mass = re.findall('mX.*si',f)[0][2:-3]\n",
    "    mass = float(mass.replace('_','.'))\n",
    "    sigmaP = float(re.findall('ma.*fdm',f)[0][2:-4])\n",
    "    sigmaE = damascus.sigmaP_to_sigmaE(sigmaP,mass)\n",
    "\n",
    "    sigmaE =float(format(sigmaE, '.2g'))\n",
    "\n",
    "    fdm = re.findall('fdm.*.cfg',f)[0][3:-4]\n",
    "    if fdm == 'none':\n",
    "        continue\n",
    "    else:\n",
    "        fdm = int(fdm)\n",
    "    idname = f[:-11]\n",
    "    damascus.fix_eta(mass,sigmaE,fdm,idname,outdir,delete=False)\n",
    "    # damascus.fix_eta(mass,sigmaE,fdm)\n",
    "# fix_eta(mass,sigmaE,fdm,idname,outdir)\n",
    "\n"
   ]
  }
 ],
 "metadata": {
  "kernelspec": {
   "display_name": "Python 3",
   "language": "python",
   "name": "python3"
  },
  "language_info": {
   "name": "python",
   "version": "3.12.2"
  }
 },
 "nbformat": 4,
 "nbformat_minor": 5
}
